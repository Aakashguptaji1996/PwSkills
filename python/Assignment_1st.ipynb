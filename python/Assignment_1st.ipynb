{
  "nbformat": 4,
  "nbformat_minor": 0,
  "metadata": {
    "colab": {
      "provenance": []
    },
    "kernelspec": {
      "name": "python3",
      "display_name": "Python 3"
    },
    "language_info": {
      "name": "python"
    }
  },
  "cells": [
    {
      "cell_type": "markdown",
      "source": [
        "#Question 1."
      ],
      "metadata": {
        "id": "9FTerP_vds3f"
      }
    },
    {
      "cell_type": "markdown",
      "source": [
        "# String"
      ],
      "metadata": {
        "id": "48_mtrlIaLLt"
      }
    },
    {
      "cell_type": "code",
      "execution_count": 11,
      "metadata": {
        "id": "ef1ua8RVX9Zc"
      },
      "outputs": [],
      "source": [
        "a = \"Ramesh\""
      ]
    },
    {
      "cell_type": "code",
      "source": [
        "a"
      ],
      "metadata": {
        "colab": {
          "base_uri": "https://localhost:8080/",
          "height": 36
        },
        "id": "uvMqu9qRZfvN",
        "outputId": "89b877a1-3a73-47b2-97fd-058c7ec9f4d4"
      },
      "execution_count": 12,
      "outputs": [
        {
          "output_type": "execute_result",
          "data": {
            "text/plain": [
              "'Ramesh'"
            ],
            "application/vnd.google.colaboratory.intrinsic+json": {
              "type": "string"
            }
          },
          "metadata": {},
          "execution_count": 12
        }
      ]
    },
    {
      "cell_type": "code",
      "source": [
        "type(a)"
      ],
      "metadata": {
        "colab": {
          "base_uri": "https://localhost:8080/"
        },
        "id": "GAg_fcr7Zlgl",
        "outputId": "dc78b6e1-de22-425f-9e48-fc7c43e37fe3"
      },
      "execution_count": 13,
      "outputs": [
        {
          "output_type": "execute_result",
          "data": {
            "text/plain": [
              "str"
            ]
          },
          "metadata": {},
          "execution_count": 13
        }
      ]
    },
    {
      "cell_type": "markdown",
      "source": [
        "# List"
      ],
      "metadata": {
        "id": "2MAZaOsiaafw"
      }
    },
    {
      "cell_type": "code",
      "source": [
        "lis = [\"Aakash\", 13, True, 24.64]"
      ],
      "metadata": {
        "id": "ooGo9LCYZssz"
      },
      "execution_count": 14,
      "outputs": []
    },
    {
      "cell_type": "code",
      "source": [
        "lis"
      ],
      "metadata": {
        "colab": {
          "base_uri": "https://localhost:8080/"
        },
        "id": "iqcp8d6Qa5DP",
        "outputId": "8a636036-aa15-400b-d817-98f2e1ce7a95"
      },
      "execution_count": 15,
      "outputs": [
        {
          "output_type": "execute_result",
          "data": {
            "text/plain": [
              "['Aakash', 13, True, 24.64]"
            ]
          },
          "metadata": {},
          "execution_count": 15
        }
      ]
    },
    {
      "cell_type": "code",
      "source": [
        "type(lis)"
      ],
      "metadata": {
        "colab": {
          "base_uri": "https://localhost:8080/"
        },
        "id": "ZrC1v44Ga6c2",
        "outputId": "c3c592d0-04be-40db-8102-bc737961e341"
      },
      "execution_count": 16,
      "outputs": [
        {
          "output_type": "execute_result",
          "data": {
            "text/plain": [
              "list"
            ]
          },
          "metadata": {},
          "execution_count": 16
        }
      ]
    },
    {
      "cell_type": "markdown",
      "source": [
        "# Float"
      ],
      "metadata": {
        "id": "sDgPXaocbCcO"
      }
    },
    {
      "cell_type": "code",
      "source": [
        "b = 73.237"
      ],
      "metadata": {
        "id": "I_PK3S2ka75o"
      },
      "execution_count": 17,
      "outputs": []
    },
    {
      "cell_type": "code",
      "source": [
        "type(b)"
      ],
      "metadata": {
        "colab": {
          "base_uri": "https://localhost:8080/"
        },
        "id": "xwGW6yjMa-__",
        "outputId": "e3e93f62-3735-4ce0-9b39-5dbe5ee21c8b"
      },
      "execution_count": 18,
      "outputs": [
        {
          "output_type": "execute_result",
          "data": {
            "text/plain": [
              "float"
            ]
          },
          "metadata": {},
          "execution_count": 18
        }
      ]
    },
    {
      "cell_type": "code",
      "source": [],
      "metadata": {
        "id": "eqTLeCIKbAId"
      },
      "execution_count": null,
      "outputs": []
    },
    {
      "cell_type": "markdown",
      "source": [
        "# Tuple"
      ],
      "metadata": {
        "id": "lDv4PPWTbL-v"
      }
    },
    {
      "cell_type": "code",
      "source": [
        "c = (\"Mohan\",23,True,56.78)"
      ],
      "metadata": {
        "id": "1NDuSqobbS1q"
      },
      "execution_count": 19,
      "outputs": []
    },
    {
      "cell_type": "code",
      "source": [
        "type(c)"
      ],
      "metadata": {
        "colab": {
          "base_uri": "https://localhost:8080/"
        },
        "id": "Nl_3Ke-Ebd9O",
        "outputId": "2a515673-d6c5-4d77-95ce-dcab810ac963"
      },
      "execution_count": 20,
      "outputs": [
        {
          "output_type": "execute_result",
          "data": {
            "text/plain": [
              "tuple"
            ]
          },
          "metadata": {},
          "execution_count": 20
        }
      ]
    },
    {
      "cell_type": "markdown",
      "source": [
        "#Question 2."
      ],
      "metadata": {
        "id": "X7cVwc40bmv_"
      }
    },
    {
      "cell_type": "markdown",
      "source": [
        "#Var1"
      ],
      "metadata": {
        "id": "uf_5q5Leb4Vn"
      }
    },
    {
      "cell_type": "code",
      "source": [
        "var1 = ''"
      ],
      "metadata": {
        "id": "SAPAuKaUbfp5"
      },
      "execution_count": 21,
      "outputs": []
    },
    {
      "cell_type": "code",
      "source": [
        "type(var1)"
      ],
      "metadata": {
        "colab": {
          "base_uri": "https://localhost:8080/"
        },
        "id": "ISWQlkI_cF_h",
        "outputId": "a8bbf8f9-108c-4153-c05f-9a9df5284213"
      },
      "execution_count": 22,
      "outputs": [
        {
          "output_type": "execute_result",
          "data": {
            "text/plain": [
              "str"
            ]
          },
          "metadata": {},
          "execution_count": 22
        }
      ]
    },
    {
      "cell_type": "markdown",
      "source": [
        "#var2"
      ],
      "metadata": {
        "id": "MC7wyBgYcM5P"
      }
    },
    {
      "cell_type": "code",
      "source": [
        "var2 = '[DS,ML,Python]'"
      ],
      "metadata": {
        "id": "kjLrWDFLcIfG"
      },
      "execution_count": 23,
      "outputs": []
    },
    {
      "cell_type": "code",
      "source": [
        "type(var2)"
      ],
      "metadata": {
        "colab": {
          "base_uri": "https://localhost:8080/"
        },
        "id": "pmJqlJBkdOeM",
        "outputId": "dba41107-349b-480f-8db1-f111321283ce"
      },
      "execution_count": 24,
      "outputs": [
        {
          "output_type": "execute_result",
          "data": {
            "text/plain": [
              "str"
            ]
          },
          "metadata": {},
          "execution_count": 24
        }
      ]
    },
    {
      "cell_type": "markdown",
      "source": [
        "#Var3"
      ],
      "metadata": {
        "id": "7CI5bAb4dUjn"
      }
    },
    {
      "cell_type": "code",
      "source": [
        "var3 = [\"DS\",\"ML\",\"Python\"]"
      ],
      "metadata": {
        "id": "KVjmO2YSdQPM"
      },
      "execution_count": 25,
      "outputs": []
    },
    {
      "cell_type": "code",
      "source": [
        "type(var3)"
      ],
      "metadata": {
        "colab": {
          "base_uri": "https://localhost:8080/"
        },
        "id": "n0bO6MC1deh9",
        "outputId": "01fa3b61-aefb-4e89-9c5c-da71fbfabb08"
      },
      "execution_count": 26,
      "outputs": [
        {
          "output_type": "execute_result",
          "data": {
            "text/plain": [
              "list"
            ]
          },
          "metadata": {},
          "execution_count": 26
        }
      ]
    },
    {
      "cell_type": "markdown",
      "source": [
        "#Var4"
      ],
      "metadata": {
        "id": "QxaTTBlwdjj3"
      }
    },
    {
      "cell_type": "code",
      "source": [
        "var4 = 1"
      ],
      "metadata": {
        "id": "oTTmODh-dg3q"
      },
      "execution_count": 27,
      "outputs": []
    },
    {
      "cell_type": "code",
      "source": [
        "type(var4)"
      ],
      "metadata": {
        "colab": {
          "base_uri": "https://localhost:8080/"
        },
        "id": "IgzKqe20do7k",
        "outputId": "84096f20-6505-4ca5-acef-26bd15db5e76"
      },
      "execution_count": 28,
      "outputs": [
        {
          "output_type": "execute_result",
          "data": {
            "text/plain": [
              "int"
            ]
          },
          "metadata": {},
          "execution_count": 28
        }
      ]
    },
    {
      "cell_type": "markdown",
      "source": [
        "#Question 3."
      ],
      "metadata": {
        "id": "_EpfMQYQdyNm"
      }
    },
    {
      "cell_type": "markdown",
      "source": [
        "#(1) Division"
      ],
      "metadata": {
        "id": "kGh34J5ug7XG"
      }
    },
    {
      "cell_type": "code",
      "source": [
        "a = 20 / 10"
      ],
      "metadata": {
        "id": "VgOGHOY3dqXl"
      },
      "execution_count": 32,
      "outputs": []
    },
    {
      "cell_type": "code",
      "source": [
        "a"
      ],
      "metadata": {
        "colab": {
          "base_uri": "https://localhost:8080/"
        },
        "id": "p7xYxQUFg46Y",
        "outputId": "012c0461-0e18-4fa6-bd13-0c143ba0ea6e"
      },
      "execution_count": 33,
      "outputs": [
        {
          "output_type": "execute_result",
          "data": {
            "text/plain": [
              "2.0"
            ]
          },
          "metadata": {},
          "execution_count": 33
        }
      ]
    },
    {
      "cell_type": "markdown",
      "source": [
        "#(2) Modulus"
      ],
      "metadata": {
        "id": "B-VcLKb-hhle"
      }
    },
    {
      "cell_type": "code",
      "source": [
        "b = 5 % 2"
      ],
      "metadata": {
        "id": "ADuggJu3hRgE"
      },
      "execution_count": 34,
      "outputs": []
    },
    {
      "cell_type": "code",
      "source": [
        "b"
      ],
      "metadata": {
        "colab": {
          "base_uri": "https://localhost:8080/"
        },
        "id": "fwbg9jTLhx3D",
        "outputId": "4cb492dc-fc06-4661-da5c-9d8857b8d238"
      },
      "execution_count": 35,
      "outputs": [
        {
          "output_type": "execute_result",
          "data": {
            "text/plain": [
              "1"
            ]
          },
          "metadata": {},
          "execution_count": 35
        }
      ]
    },
    {
      "cell_type": "markdown",
      "source": [
        "#(3) Floor division"
      ],
      "metadata": {
        "id": "2lu4gYh6h9-H"
      }
    },
    {
      "cell_type": "code",
      "source": [
        "c = 16 // 8"
      ],
      "metadata": {
        "id": "3_-kAJDQhyl2"
      },
      "execution_count": 36,
      "outputs": []
    },
    {
      "cell_type": "code",
      "source": [
        "c"
      ],
      "metadata": {
        "colab": {
          "base_uri": "https://localhost:8080/"
        },
        "id": "lNZftFhBiNZS",
        "outputId": "1666aa72-4a0c-4fd0-bc3b-fac7f0f09e5e"
      },
      "execution_count": 37,
      "outputs": [
        {
          "output_type": "execute_result",
          "data": {
            "text/plain": [
              "2"
            ]
          },
          "metadata": {},
          "execution_count": 37
        }
      ]
    },
    {
      "cell_type": "markdown",
      "source": [
        "#(4) Exponentiation"
      ],
      "metadata": {
        "id": "Br_uXE2LiqxD"
      }
    },
    {
      "cell_type": "code",
      "source": [
        " d = 2**5"
      ],
      "metadata": {
        "id": "3ipt1qjuiPGk"
      },
      "execution_count": 38,
      "outputs": []
    },
    {
      "cell_type": "code",
      "source": [
        "d"
      ],
      "metadata": {
        "colab": {
          "base_uri": "https://localhost:8080/"
        },
        "id": "ARSY3LzIkm8r",
        "outputId": "7d1faab3-e7b1-432c-ca3b-5e0d109e1baa"
      },
      "execution_count": 39,
      "outputs": [
        {
          "output_type": "execute_result",
          "data": {
            "text/plain": [
              "32"
            ]
          },
          "metadata": {},
          "execution_count": 39
        }
      ]
    },
    {
      "cell_type": "markdown",
      "source": [
        "#Qustion 4."
      ],
      "metadata": {
        "id": "xAfPvrLhk_5u"
      }
    },
    {
      "cell_type": "code",
      "source": [
        "my_list = [\"Aakash\",23,24,56.78,True,False,9+54j,[1,2,3],667.89,\"Mohan\"]\n"
      ],
      "metadata": {
        "id": "L8bpGBs5knoQ"
      },
      "execution_count": 40,
      "outputs": []
    },
    {
      "cell_type": "code",
      "source": [
        "for a in my_list:\n",
        "  print(a, \":\", type(a))"
      ],
      "metadata": {
        "colab": {
          "base_uri": "https://localhost:8080/"
        },
        "id": "oRLgIM9zrNGw",
        "outputId": "cc7aed38-52c8-47d3-ed71-6601c8eb3fe9"
      },
      "execution_count": 51,
      "outputs": [
        {
          "output_type": "stream",
          "name": "stdout",
          "text": [
            "Aakash : <class 'str'>\n",
            "23 : <class 'int'>\n",
            "24 : <class 'int'>\n",
            "56.78 : <class 'float'>\n",
            "True : <class 'bool'>\n",
            "False : <class 'bool'>\n",
            "(9+54j) : <class 'complex'>\n",
            "[1, 2, 3] : <class 'list'>\n",
            "667.89 : <class 'float'>\n",
            "Mohan : <class 'str'>\n"
          ]
        }
      ]
    },
    {
      "cell_type": "code",
      "source": [],
      "metadata": {
        "id": "0RAZ910SsGxN"
      },
      "execution_count": null,
      "outputs": []
    },
    {
      "cell_type": "markdown",
      "source": [
        "#Question 5."
      ],
      "metadata": {
        "id": "qGmB_06GtUN5"
      }
    },
    {
      "cell_type": "code",
      "source": [
        "A = int(input(\"Enter number A: \"))\n",
        "B = int(input(\"Enter number B: \"))\n",
        "count = 0\n",
        "\n",
        "while A % B == 0:\n",
        "    A //= B\n",
        "    count += 1\n",
        "\n",
        "if count > 0:\n",
        "    print(f\"{count} times {B} is divisible by {A}\")\n",
        "else:\n",
        "    print(f\"{A} is not purely divisible by {B}\")\n"
      ],
      "metadata": {
        "colab": {
          "base_uri": "https://localhost:8080/"
        },
        "id": "hDFEVZVzvGES",
        "outputId": "569e79c0-c83e-4426-db65-bc95155bf26e"
      },
      "execution_count": 60,
      "outputs": [
        {
          "output_type": "stream",
          "name": "stdout",
          "text": [
            "Enter number A: 20\n",
            "Enter number B: 2\n",
            "2 times 2 is divisible by 5\n"
          ]
        }
      ]
    },
    {
      "cell_type": "code",
      "source": [],
      "metadata": {
        "id": "6v4bcV9JwIqa"
      },
      "execution_count": null,
      "outputs": []
    },
    {
      "cell_type": "markdown",
      "source": [
        "#Question 6."
      ],
      "metadata": {
        "id": "-f9m7zeowo79"
      }
    },
    {
      "cell_type": "code",
      "source": [
        "data_list = [7, 12, 9, 15, 20, 27, 33, 18, 4, 6, 30, 22, 11, 14, 21, 25, 36, 8, 17, 24, 19, 13, 28, 16, 10]\n",
        "\n",
        "for a in data_list:\n",
        "    if a % 3 == 0:\n",
        "        print(f\"{a} is divisible by 3\")\n",
        "    else:\n",
        "        print(f\"{a} is not divisible by 3\")"
      ],
      "metadata": {
        "colab": {
          "base_uri": "https://localhost:8080/"
        },
        "id": "BG0EYyfhwyG-",
        "outputId": "25227ea6-e505-4485-a3c7-1bd278ac46a7"
      },
      "execution_count": 61,
      "outputs": [
        {
          "output_type": "stream",
          "name": "stdout",
          "text": [
            "7 is not divisible by 3\n",
            "12 is divisible by 3\n",
            "9 is divisible by 3\n",
            "15 is divisible by 3\n",
            "20 is not divisible by 3\n",
            "27 is divisible by 3\n",
            "33 is divisible by 3\n",
            "18 is divisible by 3\n",
            "4 is not divisible by 3\n",
            "6 is divisible by 3\n",
            "30 is divisible by 3\n",
            "22 is not divisible by 3\n",
            "11 is not divisible by 3\n",
            "14 is not divisible by 3\n",
            "21 is divisible by 3\n",
            "25 is not divisible by 3\n",
            "36 is divisible by 3\n",
            "8 is not divisible by 3\n",
            "17 is not divisible by 3\n",
            "24 is divisible by 3\n",
            "19 is not divisible by 3\n",
            "13 is not divisible by 3\n",
            "28 is not divisible by 3\n",
            "16 is not divisible by 3\n",
            "10 is not divisible by 3\n"
          ]
        }
      ]
    },
    {
      "cell_type": "markdown",
      "source": [
        "#Qustion 7."
      ],
      "metadata": {
        "id": "PeqNR8aGyn0i"
      }
    },
    {
      "cell_type": "markdown",
      "source": [
        "#Mutable Datatypes"
      ],
      "metadata": {
        "id": "Y-w2E0yXy1BV"
      }
    },
    {
      "cell_type": "code",
      "source": [
        "my_list = [\"Suresh\",67.90,23,24,True,9+7j,False,56]"
      ],
      "metadata": {
        "id": "ldPUrTLyxX1A"
      },
      "execution_count": 62,
      "outputs": []
    },
    {
      "cell_type": "code",
      "source": [
        "my_list [0] = \"Ramesh\""
      ],
      "metadata": {
        "id": "nbGlXvr7zMyX"
      },
      "execution_count": 69,
      "outputs": []
    },
    {
      "cell_type": "code",
      "source": [
        "my_list"
      ],
      "metadata": {
        "colab": {
          "base_uri": "https://localhost:8080/"
        },
        "id": "HT9s_nzWzkmV",
        "outputId": "c280e09d-b471-4613-9b4d-3e9c6f3b6b03"
      },
      "execution_count": 70,
      "outputs": [
        {
          "output_type": "execute_result",
          "data": {
            "text/plain": [
              "['Ramesh', 67.9, 23, 24, True, (9+7j), False, 56]"
            ]
          },
          "metadata": {},
          "execution_count": 70
        }
      ]
    },
    {
      "cell_type": "code",
      "source": [],
      "metadata": {
        "id": "n85wWfFdztZp"
      },
      "execution_count": null,
      "outputs": []
    },
    {
      "cell_type": "markdown",
      "source": [
        "#Mutable objects are those whose values can be changed after they are created. Operations on mutable objects can modify their values in place."
      ],
      "metadata": {
        "id": "xE58mA5Y0e-V"
      }
    },
    {
      "cell_type": "markdown",
      "source": [
        "#Immutable Datatypes"
      ],
      "metadata": {
        "id": "Y4Vh-OkB0sMT"
      }
    },
    {
      "cell_type": "code",
      "source": [
        "my_tuple = (\"Ramesh\", 'chhotu', 'nitin')"
      ],
      "metadata": {
        "id": "DLb6SclA0n_P"
      },
      "execution_count": 73,
      "outputs": []
    },
    {
      "cell_type": "code",
      "source": [
        "my_tuple[1] = 'yash'"
      ],
      "metadata": {
        "colab": {
          "base_uri": "https://localhost:8080/",
          "height": 179
        },
        "id": "Uz-wM68309f7",
        "outputId": "2de7656f-7983-4b04-d967-595188a5f2d7"
      },
      "execution_count": 74,
      "outputs": [
        {
          "output_type": "error",
          "ename": "TypeError",
          "evalue": "ignored",
          "traceback": [
            "\u001b[0;31m---------------------------------------------------------------------------\u001b[0m",
            "\u001b[0;31mTypeError\u001b[0m                                 Traceback (most recent call last)",
            "\u001b[0;32m<ipython-input-74-894d46eca477>\u001b[0m in \u001b[0;36m<cell line: 1>\u001b[0;34m()\u001b[0m\n\u001b[0;32m----> 1\u001b[0;31m \u001b[0mmy_tuple\u001b[0m\u001b[0;34m[\u001b[0m\u001b[0;36m1\u001b[0m\u001b[0;34m]\u001b[0m \u001b[0;34m=\u001b[0m \u001b[0;34m'yash'\u001b[0m\u001b[0;34m\u001b[0m\u001b[0;34m\u001b[0m\u001b[0m\n\u001b[0m",
            "\u001b[0;31mTypeError\u001b[0m: 'tuple' object does not support item assignment"
          ]
        }
      ]
    },
    {
      "cell_type": "markdown",
      "source": [
        "#Immutable objects are those whose values cannot be changed after they are created. Any operation that appears to modify an immutable object actually creates a new object with the modified value."
      ],
      "metadata": {
        "id": "xLx_3FR11Z1X"
      }
    },
    {
      "cell_type": "code",
      "source": [],
      "metadata": {
        "id": "5bQiDEN11WYA"
      },
      "execution_count": null,
      "outputs": []
    }
  ]
}